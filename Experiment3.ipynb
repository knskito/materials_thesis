{
 "cells": [
  {
   "cell_type": "code",
   "execution_count": 2,
   "metadata": {},
   "outputs": [],
   "source": [
    "# import packages\n",
    "import networkx as nx\n",
    "import scipy.stats as sps\n",
    "import numpy as np                                                                 \n",
    "import random as rd   \n",
    "import pandas as pd\n",
    "import matplotlib.pyplot as plt                                                    \n",
    "import warnings "
   ]
  },
  {
   "cell_type": "code",
   "execution_count": 3,
   "metadata": {},
   "outputs": [],
   "source": [
    "df = pd.read_csv('df_web_extracted_DAG.csv')"
   ]
  },
  {
   "cell_type": "code",
   "execution_count": 4,
   "metadata": {},
   "outputs": [],
   "source": [
    "D = nx.from_pandas_edgelist(df, source='source', target='target', edge_attr=None, create_using=nx.DiGraph)"
   ]
  },
  {
   "cell_type": "code",
   "execution_count": 5,
   "metadata": {},
   "outputs": [
    {
     "data": {
      "text/plain": [
       "1439"
      ]
     },
     "execution_count": 5,
     "metadata": {},
     "output_type": "execute_result"
    }
   ],
   "source": [
    "D.number_of_nodes()"
   ]
  },
  {
   "cell_type": "code",
   "execution_count": 6,
   "metadata": {},
   "outputs": [
    {
     "data": {
      "text/plain": [
       "3862"
      ]
     },
     "execution_count": 6,
     "metadata": {},
     "output_type": "execute_result"
    }
   ],
   "source": [
    "D.number_of_edges()"
   ]
  },
  {
   "cell_type": "code",
   "execution_count": 7,
   "metadata": {},
   "outputs": [],
   "source": [
    "G = D.to_undirected()"
   ]
  },
  {
   "cell_type": "code",
   "execution_count": 8,
   "metadata": {},
   "outputs": [
    {
     "name": "stdout",
     "output_type": "stream",
     "text": [
      "[0.01846811 0.01975631 0.00075832 ... 0.00060177 0.00042185 0.00021412]\n"
     ]
    }
   ],
   "source": [
    "pr_G = nx.pagerank(G, personalization = None, alpha = 0.85)\n",
    "pr_Ga = np.array(list(pr_G.values()))\n",
    "print(pr_Ga)"
   ]
  },
  {
   "cell_type": "code",
   "execution_count": 9,
   "metadata": {},
   "outputs": [
    {
     "name": "stdout",
     "output_type": "stream",
     "text": [
      "[0.05384583 0.10950242 0.00313788 ... 0.00016894 0.00016894 0.00016894]\n"
     ]
    }
   ],
   "source": [
    "pr_D = nx.pagerank(D, personalization = None, alpha = 0.85)\n",
    "pr_Da = np.array(list(pr_D.values()))\n",
    "print(pr_Da)"
   ]
  },
  {
   "cell_type": "code",
   "execution_count": 10,
   "metadata": {},
   "outputs": [
    {
     "data": {
      "text/plain": [
       "ShapiroResult(statistic=0.3080976605415344, pvalue=0.0)"
      ]
     },
     "execution_count": 10,
     "metadata": {},
     "output_type": "execute_result"
    }
   ],
   "source": [
    "sps.shapiro(pr_Ga)"
   ]
  },
  {
   "cell_type": "code",
   "execution_count": 11,
   "metadata": {},
   "outputs": [
    {
     "data": {
      "text/plain": [
       "ShapiroResult(statistic=0.09613245725631714, pvalue=0.0)"
      ]
     },
     "execution_count": 11,
     "metadata": {},
     "output_type": "execute_result"
    }
   ],
   "source": [
    "sps.shapiro(pr_Da)"
   ]
  },
  {
   "cell_type": "code",
   "execution_count": 12,
   "metadata": {},
   "outputs": [],
   "source": [
    "node_num = 1000  # the number of nodes you would like to confirm (exogeneous varible)\n",
    "boundary = D.number_of_nodes() - node_num\n",
    "allnodes = list(nx.nodes(D))\n",
    "newnodes = [e for e in allnodes if e >= boundary]\n",
    "oldnodes = [e for e in allnodes if e < boundary]\n",
    "\n",
    "D_init = D.subgraph(oldnodes)"
   ]
  },
  {
   "cell_type": "code",
   "execution_count": 13,
   "metadata": {},
   "outputs": [],
   "source": [
    "def random_path(D, start_at):\n",
    "    node = start_at\n",
    "    path = [node]\n",
    "    while True:\n",
    "        to = D[node]\n",
    "        if len(to) == 0: break\n",
    "        node = np.random.choice(list(to))\n",
    "        path.append(node)\n",
    "    return path"
   ]
  },
  {
   "cell_type": "code",
   "execution_count": 154,
   "metadata": {},
   "outputs": [
    {
     "name": "stdout",
     "output_type": "stream",
     "text": [
      "Computing 10 correlation coefficients in case of 1 two-path mechanism in each period\n",
      "Computing 10 correlation coefficients in case of 2 two-path mechanism in each period\n",
      "Computing 10 correlation coefficients in case of 3 two-path mechanism in each period\n",
      "Computing 10 correlation coefficients in case of 4 two-path mechanism in each period\n",
      "Computing 10 correlation coefficients in case of 5 two-path mechanism in each period\n",
      "Computing 10 correlation coefficients in case of 6 two-path mechanism in each period\n",
      "Computing 10 correlation coefficients in case of 7 two-path mechanism in each period\n",
      "Computing 10 correlation coefficients in case of 8 two-path mechanism in each period\n",
      "Computing 10 correlation coefficients in case of 9 two-path mechanism in each period\n",
      "Computing 10 correlation coefficients in case of 10 two-path mechanism in each period\n",
      "Computing 10 correlation coefficients in case of 11 two-path mechanism in each period\n",
      "Computing 10 correlation coefficients in case of 12 two-path mechanism in each period\n",
      "Computing 10 correlation coefficients in case of 13 two-path mechanism in each period\n",
      "Computing 10 correlation coefficients in case of 14 two-path mechanism in each period\n",
      "Computing 10 correlation coefficients in case of 15 two-path mechanism in each period\n",
      "Computing 10 correlation coefficients in case of 16 two-path mechanism in each period\n",
      "Computing 10 correlation coefficients in case of 17 two-path mechanism in each period\n",
      "Computing 10 correlation coefficients in case of 18 two-path mechanism in each period\n",
      "Computing 10 correlation coefficients in case of 19 two-path mechanism in each period\n",
      "Computing 10 correlation coefficients in case of 20 two-path mechanism in each period\n",
      "[[0.627558654543264, 0.6016775918014761, 0.5802187528293087, 0.6059519008160751, 0.6043583681198076, 0.6182499374055145, 0.604870524084493, 0.5863288937460436, 0.6092604179523766, 0.5914487044815413], [0.6446426988969117, 0.6275542037395814, 0.6389868743830525, 0.6376335718058528, 0.6485427053608863, 0.6323011893602188, 0.6553066562033775, 0.6596806050574253, 0.6455116899242934, 0.6315052509124045], [0.6670288793616812, 0.6504886929640379, 0.6347946321991873, 0.6649566816511521, 0.6508349996698418, 0.658202153935516, 0.6409653785165657, 0.6608050878387797, 0.642868189265327, 0.6722419287003591], [0.6547370378918217, 0.6610966044064249, 0.6562327032606301, 0.6476534445770793, 0.6745975432000524, 0.6580248927342522, 0.6623217958682077, 0.6636857839634157, 0.666442918858884, 0.6632931107970844], [0.6752992303563337, 0.6763156746276879, 0.671060728844361, 0.6679754960522513, 0.6603694566348723, 0.6796744335470108, 0.6687892653640465, 0.6776263166189059, 0.6681974456593107, 0.6826014683740489], [0.6827267278145568, 0.6762610211927289, 0.6670475679335519, 0.6856426745914508, 0.6715761559855357, 0.6704824935301351, 0.675563502793156, 0.673400273486277, 0.6673685360839938, 0.6777802433063761], [0.6707041038384229, 0.6803232159102489, 0.6727455258867903, 0.6809236428483662, 0.6672647088992517, 0.6752038270506995, 0.6821863605095801, 0.6729837065910511, 0.6794790740711321, 0.6729966500654835], [0.6778417176850591, 0.6741136712693215, 0.6728127751511707, 0.6778149182446025, 0.6853879149871697, 0.664439194497516, 0.6726681793663369, 0.6797556501390197, 0.6801844634749042, 0.677355192302344], [0.670301411042961, 0.6864750116549174, 0.6794125805472696, 0.6706789237887768, 0.6749202986020835, 0.6750517281643715, 0.685660075399175, 0.6786719046368694, 0.680237063063336, 0.6690267205961954], [0.6820929371258369, 0.6820077575780803, 0.681886894803664, 0.6730571159639678, 0.6750996431195547, 0.671846879172757, 0.6765936985097789, 0.6868602650022658, 0.6814696591924203, 0.6777896850288029], [0.6828364374045888, 0.6846540994492196, 0.6723012447195865, 0.6900119144613839, 0.6872454095442744, 0.6746918962681467, 0.679368434451045, 0.6833558142782935, 0.6863336553451621, 0.674314076283063], [0.6869597548544216, 0.6869821971459761, 0.6753221043949963, 0.6859060411588471, 0.6860171537491137, 0.6806366942057289, 0.6897570054974392, 0.6879393103849819, 0.6895960777391003, 0.6780750771236915], [0.6800216936321075, 0.6840511979346943, 0.6858083308278916, 0.6863161712055802, 0.6825198037621966, 0.685600028243375, 0.6794816043225529, 0.6784641874987173, 0.6855069967001641, 0.6825858625842931], [0.682787364875793, 0.692302632089936, 0.6958408165772307, 0.6919835960596203, 0.6853687922453915, 0.6827805448259457, 0.6873031562448755, 0.687708065609663, 0.6892324671663501, 0.6837692272560386], [0.6914766368522183, 0.6890901865850629, 0.6877837266451178, 0.6875055352208921, 0.6916358541272556, 0.6927499530002432, 0.6840783337971521, 0.6885447156759024, 0.6823666905332807, 0.688697076423991], [0.6856708291675175, 0.6899916772647899, 0.680968066599039, 0.6827136755176113, 0.683818619213547, 0.6933508698542205, 0.6903623171443368, 0.6917036154730993, 0.6874827192818016, 0.6804916928392747], [0.6935922282860418, 0.6912509374235105, 0.6867155278829642, 0.6821864309253313, 0.6855200316828173, 0.6944504635440479, 0.6997936393799178, 0.6873806794971722, 0.6885440433391857, 0.6888701333862732], [0.6868113100472758, 0.6891833031493675, 0.6881933997973729, 0.6944795741267294, 0.6917137471542371, 0.6860281933567859, 0.6832861074093064, 0.6818561023715148, 0.684815879776615, 0.6848298754757604], [0.6883582506301977, 0.682308587690333, 0.6871612522929473, 0.6873526267736456, 0.6875038354363289, 0.6874762177130899, 0.6870551893561984, 0.6860379711867355, 0.6834711755009355, 0.691822309186058], [0.6997758336228285, 0.6927534490677274, 0.6864216076569885, 0.6893505045609397, 0.688285567324036, 0.6853778537456346, 0.6853622626731989, 0.6875637665205215, 0.6821685267846407, 0.687133783858701]]\n",
      "[[0.3319559911396173, 0.29081423047578536, 0.28647159783103504, 0.30410284453504616, 0.28665199154909365, 0.3072039249912981, 0.30390867881554495, 0.2820268433184559, 0.30106961003668736, 0.28604491974773927], [0.3054469288619751, 0.29227274139381093, 0.3028861842290551, 0.29834390036301306, 0.3099157857259188, 0.29437648884957945, 0.30580351685876833, 0.3166427187718765, 0.3225668526429634, 0.3002388607806993], [0.3088336249558343, 0.31052288309882214, 0.29729901213244214, 0.2954926299614027, 0.30093509882599134, 0.30318166481599723, 0.30341981951299374, 0.3205036569863722, 0.2975829649253517, 0.3135298445106953], [0.28022857068372303, 0.3074999050968854, 0.2911477209728291, 0.29011991042128144, 0.3226337538444613, 0.29477895949890176, 0.3030443013678514, 0.312166726311848, 0.3100127182499531, 0.3126028632564998], [0.30880525953000626, 0.311275672167926, 0.3133899372167876, 0.3181367975105229, 0.311268400811788, 0.3127464775099706, 0.30138430608624583, 0.3055989630188538, 0.30516771634636575, 0.31743294759630064], [0.3230981921081561, 0.31220805266722806, 0.3079678304576019, 0.3223239810545299, 0.3062233025386205, 0.2989048378023631, 0.31011781482824946, 0.30006701685471515, 0.3024409447916275, 0.3096478008486754], [0.3009914873072156, 0.31769979755458205, 0.31165746227787416, 0.30382425711672073, 0.30131474952864806, 0.30764507286414555, 0.320149215890356, 0.29856860583767736, 0.30965533413639124, 0.3117495963910747], [0.31046260898121353, 0.30371631249895065, 0.3090796331627717, 0.3026520369008307, 0.31890609698579936, 0.29245964861496804, 0.31185553920545467, 0.3086660510014189, 0.3100852227575224, 0.31293107789733715], [0.30044173454355433, 0.3181875151642303, 0.31105691421238574, 0.2945507720587346, 0.2995408976099211, 0.3071750112862713, 0.3065198052514884, 0.3053713635273934, 0.3078101601336002, 0.3041806730564129], [0.3105766604456338, 0.3131916613466367, 0.30837589950646777, 0.2981956882355586, 0.30618925234623195, 0.29948252420156174, 0.3103630707705033, 0.3178731192294509, 0.31532651818642315, 0.30802900592980564], [0.31136577781118707, 0.313477897822811, 0.3075636116482303, 0.31404838625741727, 0.3149574888460082, 0.2987919646293331, 0.3110547487532732, 0.30191810532075236, 0.30975449690908974, 0.2976232468041234], [0.30269175265140935, 0.3156731880022945, 0.2992929703156698, 0.30868534631580663, 0.32070263932164134, 0.3084989360866077, 0.3076018792101142, 0.31165234612418313, 0.3111623492694943, 0.3061026060958263], [0.30483028868152756, 0.30761580556322304, 0.30955208994837174, 0.30655334137113216, 0.32240221821833714, 0.31366418236917565, 0.30573446069272847, 0.3060888064198649, 0.30697174044129977, 0.3108408168459434], [0.31279925441810696, 0.31455055545119814, 0.32006737002619484, 0.3040982299992113, 0.30642104183194874, 0.30758290055465776, 0.30878890706861867, 0.31809204691732673, 0.31085363949382294, 0.30767210514824606], [0.32121674433102887, 0.3134954602206688, 0.3146471833570102, 0.31345196812648696, 0.3108672847811468, 0.3095536911122187, 0.31417760592956556, 0.31394870420515325, 0.30033639000958057, 0.3177355446743771], [0.3137009829502566, 0.3119155114685326, 0.30935747530822705, 0.30434684176141585, 0.30448536305574003, 0.31323664123524436, 0.3118998744644613, 0.3160859266658204, 0.3116173630741527, 0.30321039296833874], [0.31536812897445626, 0.31637656692098726, 0.3098241001453525, 0.3091699564597585, 0.30916260856418265, 0.3125492583491136, 0.3244129409226936, 0.3109983174040082, 0.3196818100537632, 0.31187199215897854], [0.3033281036780896, 0.3119849100913906, 0.3093832551533072, 0.32193924625194537, 0.3083976116092104, 0.308071890411211, 0.3056971852516674, 0.30502961099237813, 0.3088538830234441, 0.3082436348182173], [0.3129759161995304, 0.30550598617860447, 0.3121287244572625, 0.30947972776325566, 0.3122720649265887, 0.31192072722174724, 0.3123212132950377, 0.3105070145815265, 0.30505744449576605, 0.3069678609937742], [0.31925048444363313, 0.3098537536449466, 0.30865187022821217, 0.30715604229347726, 0.3137790369319229, 0.3084989836470803, 0.31090842657807755, 0.3099721221358016, 0.30449579421846384, 0.3111647140300568]]\n"
     ]
    }
   ],
   "source": [
    "max_num = 20 # the number of running the two-path mechanism in each period (i.e., beta as exogeneous varible)\n",
    "repeat_num = 10 \n",
    "ans_listsD = []\n",
    "ans_listsG = []\n",
    "for j in range(max_num): # for different number of running the two-path mechanism in each period\n",
    "    ans_listD = []\n",
    "    ans_listG = []\n",
    "    for k in range(repeat_num): # for 10 samples in each period\n",
    "        reviewers = []\n",
    "        for i in range(node_num): # for each period    \n",
    "            repeat = 0\n",
    "            while repeat < j + 1:\n",
    "                newnode = i + boundary\n",
    "                candidates = [e for e in allnodes if e < newnode]\n",
    "                x = np.random.choice(candidates)\n",
    "                px = random_path(D, x)\n",
    "                sx = set(px)\n",
    "                y = np.random.choice(candidates)\n",
    "                py = random_path(D, y)\n",
    "                sy = set(py)\n",
    "                reviewers += list(sx | sy) #note that, for our dataset, the two paths must intersect in node 0.\n",
    "                repeat += 1\n",
    "        reviewers_num = []\n",
    "        for l in range(D.number_of_nodes()):\n",
    "            count = reviewers.count(l)\n",
    "            reviewers_num.append(count)\n",
    "        ansD = list(sps.spearmanr(pr_Da, reviewers_num))[0]\n",
    "        ansG = list(sps.spearmanr(pr_Ga, reviewers_num))[0]\n",
    "        ans_listD.append(ansD)\n",
    "        ans_listG.append(ansG)\n",
    "    print('Computing ' + str(repeat_num) + ' correlation coefficients in case of ' + str(j + 1) + ' two-path mechanism in each period')\n",
    "    ans_listsD.append(ans_listD)\n",
    "    ans_listsG.append(ans_listG)\n",
    "print(ans_listsD)\n",
    "print(ans_listsG)"
   ]
  },
  {
   "cell_type": "code",
   "execution_count": 19,
   "metadata": {},
   "outputs": [
    {
     "data": {
      "image/png": "[encoded data removed]",
      "text/plain": [
       "<Figure size 504x360 with 1 Axes>"
      ]
     },
     "metadata": {
      "needs_background": "light"
     },
     "output_type": "display_data"
    }
   ],
   "source": [
    "fig, ax = plt.subplots(figsize=(7, 5))\n",
    "\n",
    "bp = ax.boxplot(ans_listsD, medianprops=dict(color='#377eb8'))\n",
    "xlabels = []\n",
    "for i in range(max_num):\n",
    "    count = i + 1 \n",
    "    xlabels.append(str(count))\n",
    "ax.set_xticklabels(xlabels)\n",
    "\n",
    "#plt.title('Box plot')\n",
    "plt.xlabel(r'number of the two-path mechanism executed in one period: $\\beta$')\n",
    "plt.ylabel('Spearman\\'s rank correlation coefficients')\n",
    "\n",
    "plt.ylim([0.0,0.8])\n",
    "#plt.ylim([0.0,1.0])\n",
    "plt.grid()\n",
    "\n",
    "plt.savefig('experiment3_webpageD.png', format = 'png', dpi=600, bbox_inches='tight', pad_inches=0)\n",
    "plt.show()"
   ]
  },
  {
   "cell_type": "code",
   "execution_count": 172,
   "metadata": {},
   "outputs": [
    {
     "data": {
      "image/png": "[encoded data removed]",
      "text/plain": [
       "<Figure size 504x360 with 1 Axes>"
      ]
     },
     "metadata": {
      "needs_background": "light"
     },
     "output_type": "display_data"
    }
   ],
   "source": [
    "fig, ax = plt.subplots(figsize=(7, 5))\n",
    "\n",
    "bp = ax.boxplot(ans_listsG, medianprops=dict(color='#377eb8'))\n",
    "xlabels = []\n",
    "for i in range(max_num):\n",
    "    count = i + 1 \n",
    "    xlabels.append(str(count))\n",
    "ax.set_xticklabels(xlabels)\n",
    "\n",
    "#plt.title('Box plot')\n",
    "plt.xlabel(r'number of the two-path mechanism executed in one period: $\\beta$')\n",
    "plt.ylabel('Spearman\\'s rank correlation coefficients')\n",
    "\n",
    "plt.ylim([0.0,0.8])\n",
    "#plt.ylim([0.0,1.0])\n",
    "plt.grid()\n",
    "\n",
    "plt.savefig('experiment3_webpageG.png', format = 'png', dpi=600, bbox_inches='tight', pad_inches=0)\n",
    "plt.show()"
   ]
  }
 ],
 "metadata": {
  "kernelspec": {
   "display_name": "Python 3",
   "language": "python",
   "name": "python3"
  },
  "language_info": {
   "codemirror_mode": {
    "name": "ipython",
    "version": 3
   },
   "file_extension": ".py",
   "mimetype": "text/x-python",
   "name": "python",
   "nbconvert_exporter": "python",
   "pygments_lexer": "ipython3",
   "version": "3.9.1"
  }
 },
 "nbformat": 4,
 "nbformat_minor": 4
}
