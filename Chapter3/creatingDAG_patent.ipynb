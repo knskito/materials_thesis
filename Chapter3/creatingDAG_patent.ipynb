{
 "cells": [
  {
   "cell_type": "code",
   "execution_count": 43,
   "metadata": {},
   "outputs": [],
   "source": [
    "# import packages                                                           \n",
    "import numpy as np                                                                    \n",
    "import pandas as pd\n",
    "import networkx as nx"
   ]
  },
  {
   "cell_type": "code",
   "execution_count": 44,
   "metadata": {},
   "outputs": [],
   "source": [
    "# import original datesets\n",
    "df_patent = pd.read_table('cit-Patents.txt', names=['from', 'to'])\n",
    "df_patent = df_patent.drop_duplicates(['from', 'to']) # drop duplicated data"
   ]
  },
  {
   "cell_type": "code",
   "execution_count": 45,
   "metadata": {},
   "outputs": [
    {
     "data": {
      "text/html": [
       "<div>\n",
       "<style scoped>\n",
       "    .dataframe tbody tr th:only-of-type {\n",
       "        vertical-align: middle;\n",
       "    }\n",
       "\n",
       "    .dataframe tbody tr th {\n",
       "        vertical-align: top;\n",
       "    }\n",
       "\n",
       "    .dataframe thead th {\n",
       "        text-align: right;\n",
       "    }\n",
       "</style>\n",
       "<table border=\"1\" class=\"dataframe\">\n",
       "  <thead>\n",
       "    <tr style=\"text-align: right;\">\n",
       "      <th></th>\n",
       "      <th>from</th>\n",
       "      <th>to</th>\n",
       "    </tr>\n",
       "  </thead>\n",
       "  <tbody>\n",
       "    <tr>\n",
       "      <th>0</th>\n",
       "      <td>3858241</td>\n",
       "      <td>956203</td>\n",
       "    </tr>\n",
       "    <tr>\n",
       "      <th>1</th>\n",
       "      <td>3858241</td>\n",
       "      <td>1324234</td>\n",
       "    </tr>\n",
       "    <tr>\n",
       "      <th>2</th>\n",
       "      <td>3858241</td>\n",
       "      <td>3398406</td>\n",
       "    </tr>\n",
       "    <tr>\n",
       "      <th>3</th>\n",
       "      <td>3858241</td>\n",
       "      <td>3557384</td>\n",
       "    </tr>\n",
       "    <tr>\n",
       "      <th>4</th>\n",
       "      <td>3858241</td>\n",
       "      <td>3634889</td>\n",
       "    </tr>\n",
       "    <tr>\n",
       "      <th>...</th>\n",
       "      <td>...</td>\n",
       "      <td>...</td>\n",
       "    </tr>\n",
       "    <tr>\n",
       "      <th>16518943</th>\n",
       "      <td>6009554</td>\n",
       "      <td>4617662</td>\n",
       "    </tr>\n",
       "    <tr>\n",
       "      <th>16518944</th>\n",
       "      <td>6009554</td>\n",
       "      <td>4740972</td>\n",
       "    </tr>\n",
       "    <tr>\n",
       "      <th>16518945</th>\n",
       "      <td>6009554</td>\n",
       "      <td>4831521</td>\n",
       "    </tr>\n",
       "    <tr>\n",
       "      <th>16518946</th>\n",
       "      <td>6009554</td>\n",
       "      <td>5048064</td>\n",
       "    </tr>\n",
       "    <tr>\n",
       "      <th>16518947</th>\n",
       "      <td>6009554</td>\n",
       "      <td>5364047</td>\n",
       "    </tr>\n",
       "  </tbody>\n",
       "</table>\n",
       "<p>16518948 rows × 2 columns</p>\n",
       "</div>"
      ],
      "text/plain": [
       "             from       to\n",
       "0         3858241   956203\n",
       "1         3858241  1324234\n",
       "2         3858241  3398406\n",
       "3         3858241  3557384\n",
       "4         3858241  3634889\n",
       "...           ...      ...\n",
       "16518943  6009554  4617662\n",
       "16518944  6009554  4740972\n",
       "16518945  6009554  4831521\n",
       "16518946  6009554  5048064\n",
       "16518947  6009554  5364047\n",
       "\n",
       "[16518948 rows x 2 columns]"
      ]
     },
     "execution_count": 45,
     "metadata": {},
     "output_type": "execute_result"
    }
   ],
   "source": [
    "df_patent"
   ]
  },
  {
   "cell_type": "code",
   "execution_count": 46,
   "metadata": {},
   "outputs": [
    {
     "data": {
      "text/html": [
       "<div>\n",
       "<style scoped>\n",
       "    .dataframe tbody tr th:only-of-type {\n",
       "        vertical-align: middle;\n",
       "    }\n",
       "\n",
       "    .dataframe tbody tr th {\n",
       "        vertical-align: top;\n",
       "    }\n",
       "\n",
       "    .dataframe thead th {\n",
       "        text-align: right;\n",
       "    }\n",
       "</style>\n",
       "<table border=\"1\" class=\"dataframe\">\n",
       "  <thead>\n",
       "    <tr style=\"text-align: right;\">\n",
       "      <th></th>\n",
       "      <th>from</th>\n",
       "      <th>to</th>\n",
       "    </tr>\n",
       "  </thead>\n",
       "  <tbody>\n",
       "    <tr>\n",
       "      <th>4489388</th>\n",
       "      <td>4647229</td>\n",
       "      <td>1</td>\n",
       "    </tr>\n",
       "    <tr>\n",
       "      <th>505789</th>\n",
       "      <td>3964859</td>\n",
       "      <td>1</td>\n",
       "    </tr>\n",
       "    <tr>\n",
       "      <th>1283023</th>\n",
       "      <td>4119158</td>\n",
       "      <td>13</td>\n",
       "    </tr>\n",
       "    <tr>\n",
       "      <th>5818097</th>\n",
       "      <td>4833984</td>\n",
       "      <td>13</td>\n",
       "    </tr>\n",
       "    <tr>\n",
       "      <th>1338623</th>\n",
       "      <td>4130067</td>\n",
       "      <td>24</td>\n",
       "    </tr>\n",
       "    <tr>\n",
       "      <th>...</th>\n",
       "      <td>...</td>\n",
       "      <td>...</td>\n",
       "    </tr>\n",
       "    <tr>\n",
       "      <th>14997437</th>\n",
       "      <td>5866999</td>\n",
       "      <td>5982528</td>\n",
       "    </tr>\n",
       "    <tr>\n",
       "      <th>16290063</th>\n",
       "      <td>5988532</td>\n",
       "      <td>5982902</td>\n",
       "    </tr>\n",
       "    <tr>\n",
       "      <th>15203880</th>\n",
       "      <td>5886398</td>\n",
       "      <td>5984327</td>\n",
       "    </tr>\n",
       "    <tr>\n",
       "      <th>16369487</th>\n",
       "      <td>5996057</td>\n",
       "      <td>5990821</td>\n",
       "    </tr>\n",
       "    <tr>\n",
       "      <th>15556774</th>\n",
       "      <td>5920081</td>\n",
       "      <td>5991572</td>\n",
       "    </tr>\n",
       "  </tbody>\n",
       "</table>\n",
       "<p>16518948 rows × 2 columns</p>\n",
       "</div>"
      ],
      "text/plain": [
       "             from       to\n",
       "4489388   4647229        1\n",
       "505789    3964859        1\n",
       "1283023   4119158       13\n",
       "5818097   4833984       13\n",
       "1338623   4130067       24\n",
       "...           ...      ...\n",
       "14997437  5866999  5982528\n",
       "16290063  5988532  5982902\n",
       "15203880  5886398  5984327\n",
       "16369487  5996057  5990821\n",
       "15556774  5920081  5991572\n",
       "\n",
       "[16518948 rows x 2 columns]"
      ]
     },
     "execution_count": 46,
     "metadata": {},
     "output_type": "execute_result"
    }
   ],
   "source": [
    "df_patent = df_patent.sort_values(['to'])\n",
    "df_patent"
   ]
  },
  {
   "cell_type": "code",
   "execution_count": 47,
   "metadata": {},
   "outputs": [
    {
     "data": {
      "text/html": [
       "<div>\n",
       "<style scoped>\n",
       "    .dataframe tbody tr th:only-of-type {\n",
       "        vertical-align: middle;\n",
       "    }\n",
       "\n",
       "    .dataframe tbody tr th {\n",
       "        vertical-align: top;\n",
       "    }\n",
       "\n",
       "    .dataframe thead th {\n",
       "        text-align: right;\n",
       "    }\n",
       "</style>\n",
       "<table border=\"1\" class=\"dataframe\">\n",
       "  <thead>\n",
       "    <tr style=\"text-align: right;\">\n",
       "      <th></th>\n",
       "      <th>from</th>\n",
       "      <th>to</th>\n",
       "    </tr>\n",
       "  </thead>\n",
       "  <tbody>\n",
       "    <tr>\n",
       "      <th>4489388</th>\n",
       "      <td>4647229</td>\n",
       "      <td>1</td>\n",
       "    </tr>\n",
       "    <tr>\n",
       "      <th>505789</th>\n",
       "      <td>3964859</td>\n",
       "      <td>1</td>\n",
       "    </tr>\n",
       "    <tr>\n",
       "      <th>1283023</th>\n",
       "      <td>4119158</td>\n",
       "      <td>13</td>\n",
       "    </tr>\n",
       "    <tr>\n",
       "      <th>5818097</th>\n",
       "      <td>4833984</td>\n",
       "      <td>13</td>\n",
       "    </tr>\n",
       "    <tr>\n",
       "      <th>1338623</th>\n",
       "      <td>4130067</td>\n",
       "      <td>24</td>\n",
       "    </tr>\n",
       "    <tr>\n",
       "      <th>...</th>\n",
       "      <td>...</td>\n",
       "      <td>...</td>\n",
       "    </tr>\n",
       "    <tr>\n",
       "      <th>16234835</th>\n",
       "      <td>5983643</td>\n",
       "      <td>5957571</td>\n",
       "    </tr>\n",
       "    <tr>\n",
       "      <th>16391057</th>\n",
       "      <td>5997893</td>\n",
       "      <td>5957908</td>\n",
       "    </tr>\n",
       "    <tr>\n",
       "      <th>16174350</th>\n",
       "      <td>5978159</td>\n",
       "      <td>5970321</td>\n",
       "    </tr>\n",
       "    <tr>\n",
       "      <th>16290063</th>\n",
       "      <td>5988532</td>\n",
       "      <td>5982902</td>\n",
       "    </tr>\n",
       "    <tr>\n",
       "      <th>16369487</th>\n",
       "      <td>5996057</td>\n",
       "      <td>5990821</td>\n",
       "    </tr>\n",
       "  </tbody>\n",
       "</table>\n",
       "<p>16518209 rows × 2 columns</p>\n",
       "</div>"
      ],
      "text/plain": [
       "             from       to\n",
       "4489388   4647229        1\n",
       "505789    3964859        1\n",
       "1283023   4119158       13\n",
       "5818097   4833984       13\n",
       "1338623   4130067       24\n",
       "...           ...      ...\n",
       "16234835  5983643  5957571\n",
       "16391057  5997893  5957908\n",
       "16174350  5978159  5970321\n",
       "16290063  5988532  5982902\n",
       "16369487  5996057  5990821\n",
       "\n",
       "[16518209 rows x 2 columns]"
      ]
     },
     "execution_count": 47,
     "metadata": {},
     "output_type": "execute_result"
    }
   ],
   "source": [
    "df_patentDAG = df_patent[df_patent['from'] > df_patent['to']] # drop disordered data\n",
    "df_patentDAG"
   ]
  },
  {
   "cell_type": "code",
   "execution_count": 48,
   "metadata": {},
   "outputs": [],
   "source": [
    "D_DAG = nx.from_pandas_edgelist(df_patentDAG, source='from', target='to', edge_attr=None, create_using=nx.DiGraph)\n",
    "D_id_DAG = nx.convert_node_labels_to_integers(D_DAG, first_label=0, ordering='sorted',label_attribute=None) # must keep!"
   ]
  },
  {
   "cell_type": "code",
   "execution_count": 49,
   "metadata": {},
   "outputs": [
    {
     "data": {
      "text/plain": [
       "3774753"
      ]
     },
     "execution_count": 49,
     "metadata": {},
     "output_type": "execute_result"
    }
   ],
   "source": [
    "nx.number_of_nodes(D_id_DAG)"
   ]
  },
  {
   "cell_type": "code",
   "execution_count": 50,
   "metadata": {},
   "outputs": [
    {
     "data": {
      "text/plain": [
       "16518209"
      ]
     },
     "execution_count": 50,
     "metadata": {},
     "output_type": "execute_result"
    }
   ],
   "source": [
    "nx.number_of_edges(D_id_DAG)"
   ]
  },
  {
   "cell_type": "code",
   "execution_count": 51,
   "metadata": {},
   "outputs": [],
   "source": [
    "from networkx.algorithms.traversal.depth_first_search import dfs_tree"
   ]
  },
  {
   "cell_type": "code",
   "execution_count": 52,
   "metadata": {},
   "outputs": [],
   "source": [
    "subtreeDAG = dfs_tree(D_id_DAG.reverse(), 3) #node3 is the sink of the component with 2,427 nodes. "
   ]
  },
  {
   "cell_type": "code",
   "execution_count": 53,
   "metadata": {},
   "outputs": [
    {
     "data": {
      "text/plain": [
       "2427"
      ]
     },
     "execution_count": 53,
     "metadata": {},
     "output_type": "execute_result"
    }
   ],
   "source": [
    "nx.number_of_nodes(subtreeDAG)"
   ]
  },
  {
   "cell_type": "code",
   "execution_count": 54,
   "metadata": {},
   "outputs": [
    {
     "data": {
      "text/plain": [
       "2426"
      ]
     },
     "execution_count": 54,
     "metadata": {},
     "output_type": "execute_result"
    }
   ],
   "source": [
    "nx.number_of_edges(subtreeDAG)"
   ]
  },
  {
   "cell_type": "code",
   "execution_count": 55,
   "metadata": {},
   "outputs": [],
   "source": [
    "corenodesDAG = list(subtreeDAG.nodes)\n",
    "D_patent_DAG = nx.convert_node_labels_to_integers(D_id_DAG.subgraph(corenodesDAG), first_label=0, ordering='sorted',label_attribute=None) "
   ]
  },
  {
   "cell_type": "code",
   "execution_count": 56,
   "metadata": {},
   "outputs": [
    {
     "data": {
      "text/plain": [
       "3765"
      ]
     },
     "execution_count": 56,
     "metadata": {},
     "output_type": "execute_result"
    }
   ],
   "source": [
    "nx.number_of_edges(D_patent_DAG)"
   ]
  },
  {
   "cell_type": "code",
   "execution_count": 57,
   "metadata": {},
   "outputs": [
    {
     "data": {
      "text/html": [
       "<div>\n",
       "<style scoped>\n",
       "    .dataframe tbody tr th:only-of-type {\n",
       "        vertical-align: middle;\n",
       "    }\n",
       "\n",
       "    .dataframe tbody tr th {\n",
       "        vertical-align: top;\n",
       "    }\n",
       "\n",
       "    .dataframe thead th {\n",
       "        text-align: right;\n",
       "    }\n",
       "</style>\n",
       "<table border=\"1\" class=\"dataframe\">\n",
       "  <thead>\n",
       "    <tr style=\"text-align: right;\">\n",
       "      <th></th>\n",
       "      <th>source</th>\n",
       "      <th>target</th>\n",
       "    </tr>\n",
       "  </thead>\n",
       "  <tbody>\n",
       "    <tr>\n",
       "      <th>0</th>\n",
       "      <td>1156</td>\n",
       "      <td>126</td>\n",
       "    </tr>\n",
       "    <tr>\n",
       "      <th>1</th>\n",
       "      <td>1156</td>\n",
       "      <td>225</td>\n",
       "    </tr>\n",
       "    <tr>\n",
       "      <th>2</th>\n",
       "      <td>1081</td>\n",
       "      <td>550</td>\n",
       "    </tr>\n",
       "    <tr>\n",
       "      <th>3</th>\n",
       "      <td>1523</td>\n",
       "      <td>598</td>\n",
       "    </tr>\n",
       "    <tr>\n",
       "      <th>4</th>\n",
       "      <td>435</td>\n",
       "      <td>4</td>\n",
       "    </tr>\n",
       "    <tr>\n",
       "      <th>...</th>\n",
       "      <td>...</td>\n",
       "      <td>...</td>\n",
       "    </tr>\n",
       "    <tr>\n",
       "      <th>3760</th>\n",
       "      <td>540</td>\n",
       "      <td>314</td>\n",
       "    </tr>\n",
       "    <tr>\n",
       "      <th>3761</th>\n",
       "      <td>104</td>\n",
       "      <td>6</td>\n",
       "    </tr>\n",
       "    <tr>\n",
       "      <th>3762</th>\n",
       "      <td>104</td>\n",
       "      <td>40</td>\n",
       "    </tr>\n",
       "    <tr>\n",
       "      <th>3763</th>\n",
       "      <td>105</td>\n",
       "      <td>52</td>\n",
       "    </tr>\n",
       "    <tr>\n",
       "      <th>3764</th>\n",
       "      <td>106</td>\n",
       "      <td>6</td>\n",
       "    </tr>\n",
       "  </tbody>\n",
       "</table>\n",
       "<p>3765 rows × 2 columns</p>\n",
       "</div>"
      ],
      "text/plain": [
       "      source  target\n",
       "0       1156     126\n",
       "1       1156     225\n",
       "2       1081     550\n",
       "3       1523     598\n",
       "4        435       4\n",
       "...      ...     ...\n",
       "3760     540     314\n",
       "3761     104       6\n",
       "3762     104      40\n",
       "3763     105      52\n",
       "3764     106       6\n",
       "\n",
       "[3765 rows x 2 columns]"
      ]
     },
     "execution_count": 57,
     "metadata": {},
     "output_type": "execute_result"
    }
   ],
   "source": [
    "df_patent_extracted_DAG = nx.to_pandas_edgelist(D_patent_DAG)\n",
    "df_patent_extracted_DAG"
   ]
  },
  {
   "cell_type": "code",
   "execution_count": 58,
   "metadata": {},
   "outputs": [
    {
     "data": {
      "text/html": [
       "<div>\n",
       "<style scoped>\n",
       "    .dataframe tbody tr th:only-of-type {\n",
       "        vertical-align: middle;\n",
       "    }\n",
       "\n",
       "    .dataframe tbody tr th {\n",
       "        vertical-align: top;\n",
       "    }\n",
       "\n",
       "    .dataframe thead th {\n",
       "        text-align: right;\n",
       "    }\n",
       "</style>\n",
       "<table border=\"1\" class=\"dataframe\">\n",
       "  <thead>\n",
       "    <tr style=\"text-align: right;\">\n",
       "      <th></th>\n",
       "      <th>source</th>\n",
       "      <th>target</th>\n",
       "    </tr>\n",
       "  </thead>\n",
       "  <tbody>\n",
       "    <tr>\n",
       "      <th>3109</th>\n",
       "      <td>1</td>\n",
       "      <td>0</td>\n",
       "    </tr>\n",
       "    <tr>\n",
       "      <th>3745</th>\n",
       "      <td>2</td>\n",
       "      <td>1</td>\n",
       "    </tr>\n",
       "    <tr>\n",
       "      <th>3505</th>\n",
       "      <td>3</td>\n",
       "      <td>1</td>\n",
       "    </tr>\n",
       "    <tr>\n",
       "      <th>2679</th>\n",
       "      <td>4</td>\n",
       "      <td>2</td>\n",
       "    </tr>\n",
       "    <tr>\n",
       "      <th>2945</th>\n",
       "      <td>5</td>\n",
       "      <td>1</td>\n",
       "    </tr>\n",
       "    <tr>\n",
       "      <th>...</th>\n",
       "      <td>...</td>\n",
       "      <td>...</td>\n",
       "    </tr>\n",
       "    <tr>\n",
       "      <th>2782</th>\n",
       "      <td>2423</td>\n",
       "      <td>441</td>\n",
       "    </tr>\n",
       "    <tr>\n",
       "      <th>2783</th>\n",
       "      <td>2423</td>\n",
       "      <td>1005</td>\n",
       "    </tr>\n",
       "    <tr>\n",
       "      <th>2788</th>\n",
       "      <td>2424</td>\n",
       "      <td>869</td>\n",
       "    </tr>\n",
       "    <tr>\n",
       "      <th>2789</th>\n",
       "      <td>2425</td>\n",
       "      <td>1293</td>\n",
       "    </tr>\n",
       "    <tr>\n",
       "      <th>2790</th>\n",
       "      <td>2426</td>\n",
       "      <td>729</td>\n",
       "    </tr>\n",
       "  </tbody>\n",
       "</table>\n",
       "<p>3765 rows × 2 columns</p>\n",
       "</div>"
      ],
      "text/plain": [
       "      source  target\n",
       "3109       1       0\n",
       "3745       2       1\n",
       "3505       3       1\n",
       "2679       4       2\n",
       "2945       5       1\n",
       "...      ...     ...\n",
       "2782    2423     441\n",
       "2783    2423    1005\n",
       "2788    2424     869\n",
       "2789    2425    1293\n",
       "2790    2426     729\n",
       "\n",
       "[3765 rows x 2 columns]"
      ]
     },
     "execution_count": 58,
     "metadata": {},
     "output_type": "execute_result"
    }
   ],
   "source": [
    "df_patent_extracted_DAG = df_patent_extracted_DAG.sort_values(['source'])\n",
    "df_patent_extracted_DAG"
   ]
  },
  {
   "cell_type": "code",
   "execution_count": 59,
   "metadata": {},
   "outputs": [],
   "source": [
    "df_patent_extracted_DAG.to_csv(\"df_patent_extracted_DAG.csv\")"
   ]
  },
  {
   "cell_type": "code",
   "execution_count": null,
   "metadata": {},
   "outputs": [],
   "source": []
  }
 ],
 "metadata": {
  "kernelspec": {
   "display_name": "Python 3",
   "language": "python",
   "name": "python3"
  },
  "language_info": {
   "codemirror_mode": {
    "name": "ipython",
    "version": 3
   },
   "file_extension": ".py",
   "mimetype": "text/x-python",
   "name": "python",
   "nbconvert_exporter": "python",
   "pygments_lexer": "ipython3",
   "version": "3.8.6"
  }
 },
 "nbformat": 4,
 "nbformat_minor": 2
}
